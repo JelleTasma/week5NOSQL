{
 "cells": [
  {
   "cell_type": "code",
   "execution_count": null,
   "metadata": {},
   "outputs": [],
   "source": [
    "import numpy as np\n",
    "import pandas as pd\n",
    "import seaborn as sns\n",
    "import matplotlib.pyplot as plt\n",
    "from scipy import stats\n",
    "import pickle\n",
    "\n",
    "from sklearn.linear_model import LogisticRegression\n",
    "from sklearn.linear_model import LinearRegression\n",
    "from sklearn.neighbors import KNeighborsClassifier\n",
    "\n",
    "from sklearn import svm\n",
    "\n",
    "from sklearn.model_selection import cross_val_score, cross_val_predict, GridSearchCV, KFold, train_test_split \n",
    "from sklearn.metrics import roc_auc_score, accuracy_score, roc_curve \n",
    "from sklearn.metrics import confusion_matrix, classification_report\n",
    "\n",
    "sns.set_theme(style=\"ticks\")\n",
    "df = pd.read_csv(\"schiphol.csv\")\n",
    "cols = df.columns[df.dtypes.eq('float64')]\n",
    "df[cols] = df[cols].fillna(0).astype(np.int64)\n",
    "df.info()"
   ]
  },
  {
   "cell_type": "code",
   "execution_count": null,
   "metadata": {},
   "outputs": [],
   "source": [
    "print(df)"
   ]
  },
  {
   "cell_type": "code",
   "execution_count": null,
   "metadata": {},
   "outputs": [],
   "source": [
    "# a\n",
    "cr = df.corr()\n",
    "cr\n",
    "# Afhankelijk = FG en FHVEC\n",
    "# onafhankelijk = RHX en FHN"
   ]
  },
  {
   "cell_type": "code",
   "execution_count": null,
   "metadata": {},
   "outputs": [],
   "source": [
    "x = df['Q'].values.reshape(-1,1)\n",
    "y = df['SQ']\n",
    "xlable = \"Globale schijn\"\n",
    "ylable = \"Schijn duur\"\n",
    "\n",
    "plt.scatter(x, y)\n",
    "plt.xlabel(xlable)\n",
    "plt.ylabel(ylable)\n",
    "plt.show()"
   ]
  },
  {
   "cell_type": "code",
   "execution_count": null,
   "metadata": {},
   "outputs": [],
   "source": [
    "# b\n",
    "x_train, x_test, y_train, y_test = train_test_split(x, y, test_size=0.20, random_state=1)"
   ]
  },
  {
   "cell_type": "code",
   "execution_count": null,
   "metadata": {},
   "outputs": [],
   "source": [
    "# c \n",
    "lr = LinearRegression()\n",
    "lr.fit(x_train, y_train)"
   ]
  },
  {
   "cell_type": "code",
   "execution_count": null,
   "metadata": {},
   "outputs": [],
   "source": [
    "# d\n",
    "print(\"Score train: \" + str(round(lr.score(x_train, y_train),2)))\n",
    "print(\"Score test: \" + str(round(lr.score(x_test, y_test),2)))"
   ]
  },
  {
   "cell_type": "code",
   "execution_count": null,
   "metadata": {},
   "outputs": [],
   "source": [
    "# e\n",
    "plt.scatter(x_train, y_train)\n",
    "plt.plot(x_train, lr.predict(x_train))\n",
    "plt.xlabel(xlable)\n",
    "plt.ylabel(ylable)\n",
    "plt.show()\n",
    "\n",
    "plt.scatter(x_test, y_test)\n",
    "plt.plot(x_test, lr.predict(x_test))\n",
    "plt.xlabel(xlable)\n",
    "plt.ylabel(ylable)\n",
    "plt.show()"
   ]
  },
  {
   "cell_type": "code",
   "execution_count": null,
   "metadata": {},
   "outputs": [],
   "source": [
    "# f \n",
    "# ip: 127.0.0.1:5000\n",
    "import flask\n",
    "\n",
    "\n",
    "APP = flask.Flask(__name__)\n",
    "\n",
    "\n",
    "@APP.route('/')\n",
    "def index():\n",
    "    return flask.render_template('index.html')\n",
    "\n",
    "\n",
    "if __name__ == 'Jelle Tasma':\n",
    "    APP.debug=True\n",
    "    APP.run()\n"
   ]
  }
 ],
 "metadata": {
  "interpreter": {
   "hash": "ded6747eff3de8991bd43867c4116e771eb7e6d01e29916673c2b74b5d35c956"
  },
  "kernelspec": {
   "display_name": "Python 3.9.7 ('base')",
   "language": "python",
   "name": "python3"
  },
  "language_info": {
   "codemirror_mode": {
    "name": "ipython",
    "version": 3
   },
   "file_extension": ".py",
   "mimetype": "text/x-python",
   "name": "python",
   "nbconvert_exporter": "python",
   "pygments_lexer": "ipython3",
   "version": "3.9.7"
  },
  "orig_nbformat": 4
 },
 "nbformat": 4,
 "nbformat_minor": 2
}
